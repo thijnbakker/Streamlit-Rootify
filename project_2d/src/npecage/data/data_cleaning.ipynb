{
 "cells": [
  {
   "cell_type": "code",
   "execution_count": 3,
   "metadata": {},
   "outputs": [
    {
     "name": "stdout",
     "output_type": "stream",
     "text": [
      "\n",
      "Cleanup Summary\n",
      "Checked images       : 0\n",
      "Deleted images       : 0\n",
      "Deleted orphaned masks: 0\n",
      "Dry run mode         : False\n"
     ]
    }
   ],
   "source": [
    "import os\n",
    "import shutil\n",
    "from pathlib import Path\n",
    "from sklearn.model_selection import train_test_split\n",
    " \n",
    "# Configuration\n",
    "image_dir = \"../../../data/images\"\n",
    "mask_dir = \"../../../data/masks\"\n",
    "mask_suffixes = [\"root_mask\"]\n",
    "image_ext = \".png\"\n",
    "mask_ext = \".tif\"\n",
    "dry_run = False\n",
    " \n",
    "# Cleanup Stats\n",
    "deleted_images = 0\n",
    "deleted_masks = 0\n",
    "total_checked_images = 0\n",
    "kept_images = []\n",
    " \n",
    "# 1. Load mask base names (without extension)\n",
    "mask_basenames = set(os.path.splitext(f)[0] for f in os.listdir(mask_dir) if f.endswith(mask_ext))\n",
    " \n",
    "# 2. Clean images that are missing any mask\n",
    "for filename in os.listdir(image_dir):\n",
    "    if not filename.endswith(image_ext):\n",
    "        continue\n",
    " \n",
    "    total_checked_images += 1\n",
    "    image_base = filename[:-len(image_ext)]\n",
    " \n",
    "    required_masks = [f\"{image_base}_{suffix}\" for suffix in mask_suffixes]\n",
    "    missing_masks = [m for m in required_masks if m not in mask_basenames]\n",
    " \n",
    "    if missing_masks:\n",
    "        print(f\"Missing masks for {filename}: {missing_masks}\")\n",
    "        if not dry_run:\n",
    "            os.remove(os.path.join(image_dir, filename))\n",
    "            print(f\"Deleted image: {filename}\")\n",
    "        deleted_images += 1\n",
    "    else:\n",
    "        kept_images.append(image_base)\n",
    " \n",
    "# Clean orphaned masks (masks without corresponding image)\n",
    "valid_image_bases = set(kept_images)\n",
    " \n",
    "for mask_file in os.listdir(mask_dir):\n",
    "    if not mask_file.endswith(mask_ext):\n",
    "        continue\n",
    " \n",
    "    mask_base, _ = os.path.splitext(mask_file)\n",
    " \n",
    "    # Extract the original image base name by removing one of the known suffixes\n",
    "    image_base_candidates = [\n",
    "        mask_base.replace(f\"_{suffix}\", \"\") for suffix in mask_suffixes if f\"_{suffix}\" in mask_base\n",
    "    ]\n",
    " \n",
    "    if not image_base_candidates:\n",
    "        print(f\"Unrecognized mask format: {mask_file}\")\n",
    "        os.remove(os.path.join(mask_dir, mask_file))\n",
    "        continue\n",
    " \n",
    "    image_base = image_base_candidates[0]\n",
    " \n",
    "    if image_base not in valid_image_bases:\n",
    "        mask_path = os.path.join(mask_dir, mask_file)\n",
    "        if dry_run:\n",
    "            print(f\"[Dry-run] Would delete orphaned mask: {mask_file}\")\n",
    "        else:\n",
    "            os.remove(mask_path)\n",
    "            print(f\"Deleted orphaned mask: {mask_file}\")\n",
    "        deleted_masks += 1\n",
    " \n",
    "# Summary\n",
    "print(\"\\nCleanup Summary\")\n",
    "print(f\"Checked images       : {total_checked_images}\")\n",
    "print(f\"Deleted images       : {deleted_images}\")\n",
    "print(f\"Deleted orphaned masks: {deleted_masks}\")\n",
    "print(f\"Dry run mode         : {dry_run}\")"
   ]
  },
  {
   "cell_type": "code",
   "execution_count": 4,
   "metadata": {},
   "outputs": [],
   "source": [
    "# Updated get_id_from_filename to handle both images and masks\n",
    "def get_id_from_filename(filename: str, mask_suffixes=None) -> str:\n",
    "    name, _ = os.path.splitext(filename)\n",
    "    if mask_suffixes:\n",
    "        for suffix in mask_suffixes:\n",
    "            if name.endswith(f\"_{suffix}\"):\n",
    "                name = name[: -len(f\"_{suffix}\")]\n",
    "                break\n",
    "    return name"
   ]
  },
  {
   "cell_type": "code",
   "execution_count": 5,
   "metadata": {},
   "outputs": [],
   "source": [
    "def main(image_dir, mask_dir, train_images, train_masks, val_images, val_masks, test_images, test_masks):\n",
    "    image_dir = Path(image_dir)\n",
    "    mask_dir = Path(mask_dir)\n",
    " \n",
    "    mask_suffixes = [\"root_mask\"]\n",
    "    image_ext = \".png\"\n",
    "    mask_ext = \".tif\"\n",
    " \n",
    "    # Ensure output directories exist\n",
    "    for out_dir in [train_images, train_masks, val_images, val_masks, test_images, test_masks]:\n",
    "        os.makedirs(out_dir, exist_ok=True)\n",
    " \n",
    "    # Map image files to IDs\n",
    "    image_files = list(image_dir.glob(f\"*{image_ext}\"))\n",
    "    image_id_map = {get_id_from_filename(img.name): img for img in image_files}\n",
    " \n",
    "    # Map mask files to IDs using suffix stripping\n",
    "    mask_files = list(mask_dir.glob(f\"*{mask_ext}\"))\n",
    "    mask_id_map = {\n",
    "        get_id_from_filename(msk.name, mask_suffixes=mask_suffixes): msk\n",
    "        for msk in mask_files\n",
    "    }\n",
    " \n",
    "    # Match only IDs that exist in both\n",
    "    common_ids = sorted(set(image_id_map.keys()) & set(mask_id_map.keys()))\n",
    " \n",
    "    if not common_ids:\n",
    "        raise ValueError(\"No matching image-mask ID pairs found. Please check your data and naming conventions.\")\n",
    " \n",
    "    # Split into train/val/test (e.g., 70/15/15)\n",
    "    train_ids, temp_ids = train_test_split(common_ids, test_size=0.3, random_state=42)\n",
    "    val_ids, test_ids = train_test_split(temp_ids, test_size=0.5, random_state=42)\n",
    " \n",
    "    def copy_files(ids, img_out, mask_out):\n",
    "        for id_ in ids:\n",
    "            shutil.copy(image_id_map[id_], os.path.join(img_out, image_id_map[id_].name))\n",
    "            shutil.copy(mask_id_map[id_], os.path.join(mask_out, mask_id_map[id_].name))\n",
    " \n",
    "    # Copy files\n",
    "    copy_files(train_ids, train_images, train_masks)\n",
    "    copy_files(val_ids, val_images, val_masks)\n",
    "    copy_files(test_ids, test_images, test_masks)\n",
    " \n",
    "    print(f\"[INFO] Data split completed: {len(train_ids)} train, {len(val_ids)} val, {len(test_ids)} test\")"
   ]
  },
  {
   "cell_type": "code",
   "execution_count": 7,
   "metadata": {
    "vscode": {
     "languageId": "ruby"
    }
   },
   "outputs": [
    {
     "ename": "ValueError",
     "evalue": "No matching image-mask ID pairs found. Please check your data and naming conventions.",
     "output_type": "error",
     "traceback": [
      "\u001b[1;31m---------------------------------------------------------------------------\u001b[0m",
      "\u001b[1;31mValueError\u001b[0m                                Traceback (most recent call last)",
      "Cell \u001b[1;32mIn[7], line 10\u001b[0m\n\u001b[0;32m      7\u001b[0m test_masks \u001b[38;5;241m=\u001b[39m \u001b[38;5;124m\"\u001b[39m\u001b[38;5;124m../../data/test_masks\u001b[39m\u001b[38;5;124m\"\u001b[39m\n\u001b[0;32m      9\u001b[0m \u001b[38;5;66;03m# Call the main function\u001b[39;00m\n\u001b[1;32m---> 10\u001b[0m \u001b[43mmain\u001b[49m\u001b[43m(\u001b[49m\u001b[43mimage_dir\u001b[49m\u001b[43m,\u001b[49m\u001b[43m \u001b[49m\u001b[43mmask_dir\u001b[49m\u001b[43m,\u001b[49m\u001b[43m \u001b[49m\u001b[43mtrain_images\u001b[49m\u001b[43m,\u001b[49m\u001b[43m \u001b[49m\u001b[43mtrain_masks\u001b[49m\u001b[43m,\u001b[49m\u001b[43m \u001b[49m\u001b[43mval_images\u001b[49m\u001b[43m,\u001b[49m\u001b[43m \u001b[49m\u001b[43mval_masks\u001b[49m\u001b[43m,\u001b[49m\u001b[43m \u001b[49m\u001b[43mtest_images\u001b[49m\u001b[43m,\u001b[49m\u001b[43m \u001b[49m\u001b[43mtest_masks\u001b[49m\u001b[43m)\u001b[49m\n",
      "Cell \u001b[1;32mIn[5], line 28\u001b[0m, in \u001b[0;36mmain\u001b[1;34m(image_dir, mask_dir, train_images, train_masks, val_images, val_masks, test_images, test_masks)\u001b[0m\n\u001b[0;32m     25\u001b[0m common_ids \u001b[38;5;241m=\u001b[39m \u001b[38;5;28msorted\u001b[39m(\u001b[38;5;28mset\u001b[39m(image_id_map\u001b[38;5;241m.\u001b[39mkeys()) \u001b[38;5;241m&\u001b[39m \u001b[38;5;28mset\u001b[39m(mask_id_map\u001b[38;5;241m.\u001b[39mkeys()))\n\u001b[0;32m     27\u001b[0m \u001b[38;5;28;01mif\u001b[39;00m \u001b[38;5;129;01mnot\u001b[39;00m common_ids:\n\u001b[1;32m---> 28\u001b[0m     \u001b[38;5;28;01mraise\u001b[39;00m \u001b[38;5;167;01mValueError\u001b[39;00m(\u001b[38;5;124m\"\u001b[39m\u001b[38;5;124mNo matching image-mask ID pairs found. Please check your data and naming conventions.\u001b[39m\u001b[38;5;124m\"\u001b[39m)\n\u001b[0;32m     30\u001b[0m \u001b[38;5;66;03m# Split into train/val/test (e.g., 70/15/15)\u001b[39;00m\n\u001b[0;32m     31\u001b[0m train_ids, temp_ids \u001b[38;5;241m=\u001b[39m train_test_split(common_ids, test_size\u001b[38;5;241m=\u001b[39m\u001b[38;5;241m0.3\u001b[39m, random_state\u001b[38;5;241m=\u001b[39m\u001b[38;5;241m42\u001b[39m)\n",
      "\u001b[1;31mValueError\u001b[0m: No matching image-mask ID pairs found. Please check your data and naming conventions."
     ]
    }
   ],
   "source": [
    "# Define output directories for train, validation, and test splits\n",
    "train_images = \"../../../data/train_images\"\n",
    "train_masks = \"../../../data/train_masks\"\n",
    "val_images = \"../../../data/val_images\"\n",
    "val_masks = \"../../../data/val_masks\"\n",
    "test_images = \"../../../data/test_images\"\n",
    "test_masks = \"../../../data/test_masks\"\n",
    "\n",
    "# Call the main function\n",
    "main(image_dir, mask_dir, train_images, train_masks, val_images, val_masks, test_images, test_masks)"
   ]
  }
 ],
 "metadata": {
  "kernelspec": {
   "display_name": "help_mark",
   "language": "python",
   "name": "python3"
  },
  "language_info": {
   "codemirror_mode": {
    "name": "ipython",
    "version": 3
   },
   "file_extension": ".py",
   "mimetype": "text/x-python",
   "name": "python",
   "nbconvert_exporter": "python",
   "pygments_lexer": "ipython3",
   "version": "3.10.18"
  }
 },
 "nbformat": 4,
 "nbformat_minor": 2
}
